{
 "cells": [
  {
   "cell_type": "code",
   "execution_count": null,
   "metadata": {},
   "outputs": [],
   "source": [
    "import json \n",
    "\n",
    "\n",
    "# Create a json file \n",
    "\n",
    "json_object = json.dumps({\"cmd\": \"help\"}, indent=4)\n",
    "\n",
    "print(json_object)\n",
    "\n",
    "with open(\"help.json\", \"w\") as outfile:\n",
    "    outfile.write(json_object)"
   ]
  },
  {
   "cell_type": "code",
   "execution_count": 3,
   "metadata": {},
   "outputs": [
    {
     "name": "stdout",
     "output_type": "stream",
     "text": [
      "{'cmd': 'leaderboard'}\n",
      "Waiting for connection\n",
      "Welcome to the Quiz Server\n",
      " leaderboard Message  {'Jalol': 8, 'Samuel': 2, 'Abu': 1}\n",
      "closing connection\n"
     ]
    }
   ],
   "source": [
    "import socket\n",
    "import json\n",
    "import pickle\n",
    "\n",
    "ClientSocket = socket.socket()\n",
    "host = '139.174.76.76'\n",
    "port = 1233\n",
    "\n",
    "#json_object = json.load(open(\"newplayer.json\"))\n",
    "json_object = json.load(open(\"leaderboard.json\"))\n",
    "#json_object = json.load(open(\"recquestion.json\"))\n",
    "#json_object = json.load(open(\"answer.json\"))\n",
    "#json_object = json.load(open(\"stepback.json\"))\n",
    "\n",
    "#json_object = json.load(open(\"help.json\"))\n",
    "\n",
    "print(json_object)\n",
    "\n",
    "print('Waiting for connection')\n",
    "try:\n",
    "    ClientSocket.connect((host, port))\n",
    "except socket.error as e:\n",
    "    print(str(e))\n",
    "\n",
    "Response = ClientSocket.recv(1024)\n",
    "\n",
    "print(Response.decode('utf-8'))\n",
    "\n",
    "ClientSocket.sendall(pickle.dumps(json_object))\n",
    "Response = ClientSocket.recv(1024)\n",
    "\n",
    "print(Response.decode('utf-8'))\n",
    "\n",
    "\n",
    "\n",
    "print('closing connection')\n",
    "ClientSocket.close()"
   ]
  }
 ],
 "metadata": {
  "kernelspec": {
   "display_name": "Python 3.8.3 ('pythonprojects')",
   "language": "python",
   "name": "python3"
  },
  "language_info": {
   "codemirror_mode": {
    "name": "ipython",
    "version": 3
   },
   "file_extension": ".py",
   "mimetype": "text/x-python",
   "name": "python",
   "nbconvert_exporter": "python",
   "pygments_lexer": "ipython3",
   "version": "3.8.3"
  },
  "orig_nbformat": 4,
  "vscode": {
   "interpreter": {
    "hash": "9ca6c021665069bfb898e8dc13cb3d5fa758789e92f7f0af57fe8d1b7cfa19e4"
   }
  }
 },
 "nbformat": 4,
 "nbformat_minor": 2
}
